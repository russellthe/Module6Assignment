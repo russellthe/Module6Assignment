{
 "cells": [
  {
   "cell_type": "code",
   "execution_count": 51,
   "metadata": {
    "scrolled": true
   },
   "outputs": [
    {
     "name": "stdout",
     "output_type": "stream",
     "text": [
      "2022-06-26 17:22:44.280546\n",
      "17:22:44.280546\n"
     ]
    },
    {
     "data": {
      "text/plain": [
       "'The current time is 05:22 PM'"
      ]
     },
     "execution_count": 51,
     "metadata": {},
     "output_type": "execute_result"
    }
   ],
   "source": [
    "#getting system date and time and displaying it\n",
    "from datetime import time\n",
    "\n",
    "now = datetime.datetime.now()        #get and print current date and time\n",
    "print(now)\n",
    "\n",
    "print(now.time())                    #display just the clock time without the date\n",
    "\n",
    "ftime = now.time()                   #formatted time using strftime() function\n",
    "\n",
    "ftime.strftime(\"The current time is %I:%M %p\")"
   ]
  },
  {
   "cell_type": "code",
   "execution_count": 52,
   "metadata": {},
   "outputs": [
    {
     "name": "stdout",
     "output_type": "stream",
     "text": [
      "2024-06-23 17:21:54.096627\n"
     ]
    }
   ],
   "source": [
    "#add a timedelta to the datetime and subtract 60 seconds and add 2 years.\n",
    "from datetime import timedelta  \n",
    "\n",
    "d = datetime.datetime.now()           #get current date and time\n",
    "td_seconds = timedelta(seconds=-60)   #subtract 60 seconds\n",
    "td_years = timedelta(weeks=104)       #add two years\n",
    "print(d + td_seconds + td_years)      #display updated date and time"
   ]
  },
  {
   "cell_type": "code",
   "execution_count": 53,
   "metadata": {
    "scrolled": true
   },
   "outputs": [
    {
     "name": "stdout",
     "output_type": "stream",
     "text": [
      "100 days, 10:13:00\n"
     ]
    }
   ],
   "source": [
    "#create a timedelta object representing 100 days, 10 hours and 13 minutes\n",
    "\n",
    "from datetime import timedelta\n",
    "\n",
    "dt = timedelta(days=100,hours=10,minutes=13)\n",
    "\n",
    "print(dt)"
   ]
  },
  {
   "cell_type": "code",
   "execution_count": 60,
   "metadata": {},
   "outputs": [
    {
     "name": "stdout",
     "output_type": "stream",
     "text": [
      "Feet: 10, Inches: 11, Time Created: 2022-06-26 17:29:57.696910\n"
     ]
    }
   ],
   "source": [
    "#write a function that takes two arguments with a time object. \n",
    "#in order to address this question, we can use feet, inches and returns both together with the datatime object.\n",
    "\n",
    "class my_datetime:\n",
    "    def __init__(self, feet, inches):\n",
    "        self.feet = feet\n",
    "        self.inches = inches\n",
    "        self.time = datetime.datetime.now()\n",
    "\n",
    "    def __str__(self):\n",
    "        print((\"Feet: {0}, Inches: {1}, Time Created: {2}\").format(self.feet, self.inches, self.time))\n",
    "\n",
    "new_object = my_datetime(10, 11)\n",
    "new_object.__str__()"
   ]
  },
  {
   "cell_type": "code",
   "execution_count": null,
   "metadata": {},
   "outputs": [],
   "source": []
  }
 ],
 "metadata": {
  "kernelspec": {
   "display_name": "Python 3",
   "language": "python",
   "name": "python3"
  },
  "language_info": {
   "codemirror_mode": {
    "name": "ipython",
    "version": 3
   },
   "file_extension": ".py",
   "mimetype": "text/x-python",
   "name": "python",
   "nbconvert_exporter": "python",
   "pygments_lexer": "ipython3",
   "version": "3.7.4"
  }
 },
 "nbformat": 4,
 "nbformat_minor": 2
}
